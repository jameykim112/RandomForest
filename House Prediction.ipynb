{
 "cells": [
  {
   "cell_type": "code",
   "execution_count": 20,
   "metadata": {},
   "outputs": [],
   "source": [
    "import pandas as pd\n",
    "from sklearn.ensemble import RandomForestRegressor\n",
    "\n",
    "PATH = '/Users/janetyuen/Documents/2. Side projects/Kaggle/1. House/rawData/'\n",
    "\n",
    "#Data preparation\n",
    "df_test = pd.read_csv(f'{PATH}test.csv', index_col = 'Id')\n",
    "df_train = pd.read_csv(f'{PATH}train.csv', index_col = 'Id')\n",
    "target = df_train['SalePrice'] #Setting the target value when training\n",
    "df_train = df_train.drop('SalePrice', axis = 1) #DataFrame.drop SalePrice axis = 1 (column)\n",
    "df_train['training_set'] = True\n",
    "df_test['training_set'] = False"
   ]
  },
  {
   "cell_type": "code",
   "execution_count": 21,
   "metadata": {
    "collapsed": true
   },
   "outputs": [],
   "source": [
    "df_full = pd.concat([df_train, df_test])\n",
    "df_full = df_full.interpolate()\n",
    "df_full = pd.get_dummies(df_full)\n",
    "df_train = df_full[df_full['training_set']==True]\n",
    "df_train = df_train.drop('training_set', axis=1)\n",
    "df_test = df_full[df_full['training_set']==False]\n",
    "df_test = df_test.drop('training_set', axis=1)"
   ]
  },
  {
   "cell_type": "code",
   "execution_count": 22,
   "metadata": {
    "collapsed": true
   },
   "outputs": [],
   "source": [
    "rf = RandomForestRegressor(n_estimators=100, n_jobs=-1)\n",
    "rf.fit(df_train, target)\n",
    "preds = rf.predict(df_test)"
   ]
  },
  {
   "cell_type": "code",
   "execution_count": 24,
   "metadata": {
    "collapsed": true
   },
   "outputs": [],
   "source": [
    "rf.fit(df_train, target)\n",
    "preds = rf.predict(df_test)\n",
    "\n",
    "my_submission = pd.DataFrame({'Id': df_test.index, 'SalePrice': preds})\n",
    "my_submission.to_csv(f'{PATH}submission.csv', index=False)"
   ]
  },
  {
   "cell_type": "code",
   "execution_count": null,
   "metadata": {
    "collapsed": true
   },
   "outputs": [],
   "source": []
  }
 ],
 "metadata": {
  "kernelspec": {
   "display_name": "Python 3",
   "language": "python",
   "name": "python3"
  },
  "language_info": {
   "codemirror_mode": {
    "name": "ipython",
    "version": 3
   },
   "file_extension": ".py",
   "mimetype": "text/x-python",
   "name": "python",
   "nbconvert_exporter": "python",
   "pygments_lexer": "ipython3",
   "version": "3.6.2"
  }
 },
 "nbformat": 4,
 "nbformat_minor": 2
}
